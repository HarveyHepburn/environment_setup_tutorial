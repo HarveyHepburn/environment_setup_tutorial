{
 "cells": [
  {
   "cell_type": "markdown",
   "metadata": {},
   "source": [
    "# 官方文档"
   ]
  },
  {
   "cell_type": "markdown",
   "metadata": {},
   "source": [
    "[pywin32官方文档](http://timgolden.me.uk/pywin32-docs/contents.html)"
   ]
  },
  {
   "cell_type": "markdown",
   "metadata": {},
   "source": [
    "# 引入包"
   ]
  },
  {
   "cell_type": "code",
   "execution_count": null,
   "metadata": {},
   "outputs": [],
   "source": [
    "import win32gui\n",
    "import win32api\n",
    "import win32con"
   ]
  },
  {
   "cell_type": "markdown",
   "metadata": {},
   "source": [
    "# 获取窗口相关信息"
   ]
  },
  {
   "cell_type": "code",
   "execution_count": null,
   "metadata": {},
   "outputs": [],
   "source": [
    "# 获取窗口对象\n",
    "# PyHANDLE = FindWindow(ClassName, WindowName) 可以为None\n",
    "PyHANDLE = win32gui.FindWindow(\"PX_WINDOW_CLASS\", None)\n",
    "\n",
    "\n",
    "# 获取窗口坐标\n",
    "# (left, top, right, bottom) = GetWindowRect(hwnd)\n",
    "position = win32gui.GetWindowRect(PyHANDLE)\n",
    "\n",
    "\n",
    "# 移动窗口 并 改变窗口大小\n",
    "# MoveWindow(hwnd, x, y, width, height, bRepaint)\n",
    "win32gui.MoveWindow(PyHANDLE, 20, 20, 405, 756, 1)\n",
    "\n",
    "\n",
    "# 关闭窗口\n",
    "# PostMessage(hwnd, idMessage, wParam, lParam)\n",
    "win32gui.PostMessage(PyHANDLE, win32con.WM_CLOSE, 0, 0)\n",
    "\n",
    "\n",
    "# 窗口操作,最大化\n",
    "# boolean = ShowWindow(hWnd, cmdShow )\n",
    "# SW_HIDE：隐藏窗口并激活其他窗口。nCmdShow=0。\n",
    "# SW_MAXIMIZE：最大化指定的窗口。nCmdShow=3。\n",
    "# SW_MINIMIZE：最小化指定的窗口并且激活在Z序中的下一个顶层窗口。nCmdShow=6。\n",
    "# SW_RESTORE：激活并显示窗口。如果窗口最小化或最大化，则系统将窗口恢复到原来的尺寸和位置。\n",
    "# SW_SHOW：在窗口原来的位置以原来的尺寸激活和显示窗口。nCmdShow=5。\n",
    "# SW_SHOWMAXIMIZED：激活窗口并将其最大化。nCmdShow=3。\n",
    "# SW_SHOWMINIMIZED：激活窗口并将其最小化。nCmdShow=2。\n",
    "# SW_SHOWMINNOACTIVE：窗口最小化，激活窗口仍然维持激活状态。nCmdShow=7。\n",
    "# SW_SHOWNA：以窗口原来的状态显示窗口。激活窗口仍然维持激活状态。nCmdShow=8。\n",
    "# SW_SHOWNOACTIVATE：以窗口最近一次的大小和状态显示窗口。激活窗口仍然维持激活状态。nCmdShow=4。\n",
    "win32gui.ShowWindow(PyHANDLE, win32con.SW_MAXIMIZE)\n",
    "\n",
    "\n",
    "# 操作菜单\n",
    "menu = win32gui.GetMenu(PyHANDLE)\n",
    "#第几个菜单\n",
    "menu1 = win32gui.GetSubMenu(menu, 0)\n",
    "#第几个子菜单\n",
    "cmd_ID = win32gui.GetMenuItemID(menu1, 1)\n",
    "# 点击菜单\n",
    "win32gui.PostMessage(PyHANDLE, win32con.WM_COMMAND, cmd_ID, 0)\n",
    "\n",
    "\n",
    "# 遍历所有子控件\n",
    "def get_child_windows(parent):\n",
    "    if not parent:\n",
    "        return\n",
    "    hwndChildList = []\n",
    "    win32gui.EnumChildWindows(parent, lambda hwnd, param: param.append(hwnd),  hwndChildList)\n",
    "    return hwndChildList\n",
    "# 遍历所有子控件\n",
    "children_windows = get_child_windows(PyHANDLE)\n",
    "# 打印出每个子控件,可以根据此获取位置\n",
    "for i in range(len(children_windows)):\n",
    "    print(str(i) + win32gui.GetClassName(children_windows[i]))\n",
    "    \n",
    "\n",
    "# 操作输入框,注意重新获得句柄问题\n",
    "children_windows = get_child_windows(PyHANDLE)[18]\n",
    "win32api.SendMessage(children_windows, win32con.WM_SETTEXT, None, \"asd\")\n",
    "\n",
    "\n",
    "# 操作按钮,注意重新获得句柄问题\n",
    "children_windows = get_child_windows(PyHANDLE)[21]\n",
    "win32api.SendMessage(children_windows, win32con.WM_LBUTTONDOWN, 0, 0)\n",
    "win32api.SendMessage(children_windows, win32con.WM_LBUTTONUP, 0, 0)\n",
    "\n",
    "# 指定句柄设置为前台，也就是激活\n",
    "win32gui.SetForegroundWindow(PyHANDLE)\n",
    "\n",
    "# 设置为最小化\n",
    "win32gui.CloseWindow(PyHANDLE)"
   ]
  },
  {
   "cell_type": "markdown",
   "metadata": {},
   "source": [
    "# 鼠标相关操作"
   ]
  },
  {
   "cell_type": "code",
   "execution_count": null,
   "metadata": {},
   "outputs": [],
   "source": [
    "# 获取鼠标位置\n",
    "# (int, int) = GetCursorPos()\n",
    "position = win32api.GetCursorPos()\n",
    "\n",
    "# 移动鼠标\n",
    "# SetCursorPos((x,y))\n",
    "win32api.SetCursorPos((0, 0))\n",
    "\n",
    "# 鼠标事件(双击)\n",
    "# mouse_event(dwFlags, dx, dy, dwData, dwExtraInfo)\n",
    "win32api.mouse_event(win32con.MOUSEEVENTF_LEFTDOWN, 0, 0, 0, 0)\n",
    "win32api.mouse_event(win32con.MOUSEEVENTF_LEFTUP, 0, 0, 0, 0)\n",
    "win32api.mouse_event(win32con.MOUSEEVENTF_LEFTDOWN, 0, 0, 0, 0)\n",
    "win32api.mouse_event(win32con.MOUSEEVENTF_LEFTUP, 0, 0, 0, 0)"
   ]
  },
  {
   "cell_type": "markdown",
   "metadata": {},
   "source": [
    "# 键盘相关操作"
   ]
  },
  {
   "cell_type": "code",
   "execution_count": null,
   "metadata": {},
   "outputs": [],
   "source": [
    "# 键盘输入事件\n",
    "def key_even(self, input_key):\n",
    "    win32api.keybd_event(VK_CODE[input_key], 0, 0, 0)\n",
    "    win32api.keybd_event(VK_CODE[input_key], 0, win32con.KEYEVENTF_KEYUP, 0)\n",
    "    time.sleep(1)"
   ]
  }
 ],
 "metadata": {
  "kernelspec": {
   "display_name": "Python 3",
   "language": "python",
   "name": "python3"
  },
  "language_info": {
   "codemirror_mode": {
    "name": "ipython",
    "version": 3
   },
   "file_extension": ".py",
   "mimetype": "text/x-python",
   "name": "python",
   "nbconvert_exporter": "python",
   "pygments_lexer": "ipython3",
   "version": "3.6.8"
  },
  "toc": {
   "base_numbering": 1,
   "nav_menu": {},
   "number_sections": true,
   "sideBar": true,
   "skip_h1_title": false,
   "title_cell": "Table of Contents",
   "title_sidebar": "Contents",
   "toc_cell": false,
   "toc_position": {},
   "toc_section_display": true,
   "toc_window_display": false
  }
 },
 "nbformat": 4,
 "nbformat_minor": 2
}
